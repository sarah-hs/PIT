{
  "nbformat": 4,
  "nbformat_minor": 0,
  "metadata": {
    "accelerator": "GPU",
    "colab": {
      "name": "PIT - Examen final.ipynb",
      "provenance": [],
      "collapsed_sections": [],
      "toc_visible": true
    },
    "kernelspec": {
      "display_name": "Python 3",
      "name": "python3"
    }
  },
  "cells": [
    {
      "cell_type": "markdown",
      "metadata": {
        "id": "OPLWJn1lbCCT"
      },
      "source": [
        "# Examen Final de Procesamiento Inteligente de Texto"
      ]
    },
    {
      "cell_type": "code",
      "metadata": {
        "id": "uVJ40GM9aqlj"
      },
      "source": [
        "#!pip install tensorflow-text. # !pip install pip install PyMuPDF #https://www.tensorflow.org/tutorials/load_data/text"
      ],
      "execution_count": null,
      "outputs": []
    },
    {
      "cell_type": "markdown",
      "metadata": {
        "id": "Az-d_K5_HQ5k"
      },
      "source": [
        "# Predict the programming language for a Stack Overflow question"
      ]
    },
    {
      "cell_type": "code",
      "metadata": {
        "id": "baYFZMW_bJHh"
      },
      "source": [
        "import collections\n",
        "import pathlib\n",
        "import re\n",
        "import string\n",
        "import tensorflow as tf\n",
        "from tensorflow.keras import layers\n",
        "from tensorflow.keras import losses\n",
        "from tensorflow.keras import preprocessing\n",
        "from tensorflow.keras import utils\n",
        "from tensorflow.keras.layers.experimental.preprocessing import TextVectorization\n",
        "import tensorflow_datasets as tfds\n",
        "import tensorflow_text as tf_text"
      ],
      "execution_count": null,
      "outputs": []
    },
    {
      "cell_type": "markdown",
      "metadata": {
        "id": "sZfSvVcDo6GQ"
      },
      "source": [
        "### Load dataset"
      ]
    },
    {
      "cell_type": "code",
      "metadata": {
        "id": "8ELgzA6SHTuV",
        "colab": {
          "base_uri": "https://localhost:8080/"
        },
        "outputId": "ba099227-17ca-4898-f946-a0b80f9849c5"
      },
      "source": [
        "data_url = 'https://storage.googleapis.com/download.tensorflow.org/data/stack_overflow_16k.tar.gz'\n",
        "dataset = utils.get_file('stack_overflow_16k.tar.gz', data_url, untar=True, cache_dir='stack_overflow', cache_subdir='')\n",
        "\n",
        "dataset_dir = pathlib.Path(dataset).parent\n",
        "train_dir = dataset_dir/'train'\n",
        "list(train_dir.iterdir())"
      ],
      "execution_count": null,
      "outputs": [
        {
          "output_type": "execute_result",
          "data": {
            "text/plain": [
              "[PosixPath('/tmp/.keras/train/csharp'),\n",
              " PosixPath('/tmp/.keras/train/javascript'),\n",
              " PosixPath('/tmp/.keras/train/python'),\n",
              " PosixPath('/tmp/.keras/train/java')]"
            ]
          },
          "metadata": {
            "tags": []
          },
          "execution_count": 3
        }
      ]
    },
    {
      "cell_type": "code",
      "metadata": {
        "id": "qqyliMw8N-az",
        "colab": {
          "base_uri": "https://localhost:8080/"
        },
        "outputId": "d50bf359-d662-4030-8722-40f9974a7ca6"
      },
      "source": [
        "batch_size = 32\n",
        "seed = 42\n",
        "\n",
        "raw_train_ds = preprocessing.text_dataset_from_directory(\n",
        "    train_dir,\n",
        "    batch_size=batch_size,\n",
        "    validation_split=0.2,\n",
        "    subset='training',\n",
        "    seed=seed)\n",
        "\n",
        "raw_val_ds = preprocessing.text_dataset_from_directory(\n",
        "    train_dir,\n",
        "    batch_size=batch_size,\n",
        "    validation_split=0.2,\n",
        "    subset='validation',\n",
        "    seed=seed)\n",
        "\n",
        "test_dir = dataset_dir/'test'\n",
        "raw_test_ds = preprocessing.text_dataset_from_directory(test_dir, batch_size=batch_size)"
      ],
      "execution_count": null,
      "outputs": [
        {
          "output_type": "stream",
          "text": [
            "Found 8000 files belonging to 4 classes.\n",
            "Using 6400 files for training.\n",
            "Found 8000 files belonging to 4 classes.\n",
            "Using 1600 files for validation.\n",
            "Found 8000 files belonging to 4 classes.\n"
          ],
          "name": "stdout"
        }
      ]
    },
    {
      "cell_type": "markdown",
      "metadata": {
        "id": "-LWXWQTEdNKz"
      },
      "source": [
        "Explore dataset"
      ]
    },
    {
      "cell_type": "code",
      "metadata": {
        "id": "_JMTyZ6Glt_C",
        "colab": {
          "base_uri": "https://localhost:8080/"
        },
        "outputId": "f50faa1c-3a76-48c8-a0d3-e28a26c2c969"
      },
      "source": [
        "for i, label in enumerate(raw_train_ds.class_names):\n",
        "  print(\"Label\", i, \"corresponds to\", label)\n",
        "\n",
        "for text_batch, label_batch in raw_train_ds.take(1):\n",
        "  for i in range(5):\n",
        "    print(\"Question: \", text_batch.numpy()[i][:100], '...')\n",
        "    print(\"Label:\", label_batch.numpy()[i])"
      ],
      "execution_count": null,
      "outputs": [
        {
          "output_type": "stream",
          "text": [
            "Label 0 corresponds to csharp\n",
            "Label 1 corresponds to java\n",
            "Label 2 corresponds to javascript\n",
            "Label 3 corresponds to python\n",
            "Question:  b'\"my tester is going to the wrong constructor i am new to programming so if i ask a question that can' ...\n",
            "Label: 1\n",
            "Question:  b'\"blank code slow skin detection this code changes the color space to lab and using a threshold finds' ...\n",
            "Label: 3\n",
            "Question:  b'\"option and validation in blank i want to add a new option on my system where i want to add two text' ...\n",
            "Label: 1\n",
            "Question:  b'\"exception: dynamic sql generation for the updatecommand is not supported against a selectcommand th' ...\n",
            "Label: 0\n",
            "Question:  b'\"parameter with question mark and super in blank, i\\'ve come across a method that is formatted like t' ...\n",
            "Label: 1\n"
          ],
          "name": "stdout"
        }
      ]
    },
    {
      "cell_type": "markdown",
      "metadata": {
        "id": "Xdt-ATrGRGDL"
      },
      "source": [
        "### Prepare the dataset for training\n"
      ]
    },
    {
      "cell_type": "code",
      "metadata": {
        "colab": {
          "base_uri": "https://localhost:8080/"
        },
        "id": "X1Z-vrz9eExH",
        "outputId": "7b605aea-eeb3-4f36-e868-c1863e7d153c"
      },
      "source": [
        "# Make a text-only dataset (without labels), then call adapt\n",
        "train_text = raw_train_ds.map(lambda text, labels: text)\n",
        "\n",
        "# Retrieve a batch (of 32 reviews and labels) from the dataset\n",
        "text_batch, label_batch = next(iter(raw_train_ds))\n",
        "first_question, first_label = text_batch[0], label_batch[0]\n",
        "print(\"Question\", first_question)\n",
        "print(\"Label\", first_label)"
      ],
      "execution_count": null,
      "outputs": [
        {
          "output_type": "stream",
          "text": [
            "Question tf.Tensor(b'\"blank8 why is my solution faster than the neat solution? (hackerrank chocolate feast) edit: simplified my solution..edit: removed opinion based secondary question...background: atarted learning blank a week or two ago using hackerranks problems as exercises and stackoverflow search + google as my teacher, i\\'ve had some limited experience learning other languages...i did the exercise my own \"\"noobish learner way\"\" which i can\\'t help but feel is a \"\"botched job\"\" when i see \"\"neat &amp; short\"\" solutions...however, when submitting both solutions one after another a couple of times i found the \"\"neat\"\" solution was quite a bit slower. ..i vaguely remember something about % operations being costly, is mine faster because of no % operations or is there more to it than just that?..exercise: https://www.hackerrank.com/challenges/chocolate-feast..neat solution from discussion:..import blank.io.*;.import blank.util.*;..public class solution {.    static int cc; .    public static void main(string[] args) {.        scanner in = new scanner(system.in);.        int t,n,c,m,r;.            t = in.nextint();.            while(t--&gt;0){.             n = in.nextint();.            c = in.nextint();.             m = in.nextint();.                r=n/c;.                cc=r;..                    while(r&gt;=m){.                        cc=cc+r/m;.                        r=r%m+r/m;.                    }..                system.out.println(cc); .            }..    }.}...my solution:..import blank.io.*;.import blank.util.*;..public class solution {..    public static void main(string[] args) {..        scanner sc = new scanner(system.in);.        int t = integer.parseint(sc.nextline());    //t = number of test cases.        int[][] tc = readinput(sc, t);              //tc[t][0] = money. tc[t][1] = price. tc[t][2] = wrappers per free bar..        for (int i = 0; i&lt;t; i++){                  //loop for all test cases.            int choc = calcchoc(tc,i);              //work out how much choc can be bought.            system.out.println(choc);               //print result for the test case.        }.    }.    //calculate how much choc he can buy with m $ at p price with w wrappers needed for a free bar.    public static int calcchoc(int[][] tc,int i){..        int m = tc[i][0];       //money he has.        int p = tc[i][1];       //price of choc.        int w = tc[i][2];       //wrappers per free bar..        int bars = m/p;         //how many bars he can buy initially.        int wrappers = bars;    //each bar is a wrapper from initial purpose..        //loop to turn in all wrappers while it is possible to do so.        while (w&lt;=wrappers){..            int barsfromturnin = wrappers/w;                //bars from turning in current wrappers..            bars = bars + barsfromturnin;                   //new bar count.            wrappers = wrappers - (barsfromturnin * (w-1)); //wrapper count reduced by amount of wrappers turned in -1 wrapper per bar recieved from turn in...            if (w==1){ //break out of infinite loop when you get 1 bar for 1 wrapper!.                system.out.print(\"\"infinite bars, exiting infinite loop at bars = \"\");.                break;.            }.        }.        return bars;.    }.    //read input for each test case and make 2d array of the info.    public static int[][] readinput(scanner sc, int t){..        int[][] input = new int[t][3];..        for (int i = 0; i&lt;t; i++){.            string[] inputline = sc.nextline().split(\"\" \"\");..            input[i][0] = integer.parseint(inputline[0]);.            input[i][1] = integer.parseint(inputline[1]);.            input[i][2] = integer.parseint(inputline[2]);.        }.        return input;.    }.}\"\\n', shape=(), dtype=string)\n",
            "Label tf.Tensor(1, shape=(), dtype=int32)\n"
          ],
          "name": "stdout"
        }
      ]
    },
    {
      "cell_type": "markdown",
      "metadata": {
        "id": "vnrOxFpvhFjS"
      },
      "source": [
        "Binary model"
      ]
    },
    {
      "cell_type": "code",
      "metadata": {
        "id": "voaC43rZR0jc",
        "colab": {
          "base_uri": "https://localhost:8080/"
        },
        "outputId": "161ebf86-2ca8-437e-972c-a3202c8354b1"
      },
      "source": [
        "VOCAB_SIZE = 10000\n",
        "\n",
        "binary_vectorize_layer = TextVectorization(\n",
        "    max_tokens=VOCAB_SIZE,\n",
        "    output_mode='binary')\n",
        "\n",
        "def binary_vectorize_text(text, label):\n",
        "  text = tf.expand_dims(text, -1)\n",
        "  return binary_vectorize_layer(text), label\n",
        "\n",
        "binary_vectorize_layer.adapt(train_text)\n",
        "\n",
        "print(\"'binary' vectorized question:\",  binary_vectorize_text(first_question, first_label)[0])\n",
        "\n",
        "binary_train_ds = raw_train_ds.map(binary_vectorize_text)\n",
        "binary_val_ds = raw_val_ds.map(binary_vectorize_text)\n",
        "binary_test_ds = raw_test_ds.map(binary_vectorize_text)"
      ],
      "execution_count": null,
      "outputs": [
        {
          "output_type": "stream",
          "text": [
            "'binary' vectorized question: tf.Tensor([[1. 1. 1. ... 0. 0. 0.]], shape=(1, 10000), dtype=float32)\n"
          ],
          "name": "stdout"
        }
      ]
    },
    {
      "cell_type": "markdown",
      "metadata": {
        "id": "EMzET1a2hHRl"
      },
      "source": [
        "Integer model"
      ]
    },
    {
      "cell_type": "code",
      "metadata": {
        "id": "_1W54wf0LhQ0",
        "colab": {
          "base_uri": "https://localhost:8080/"
        },
        "outputId": "87234310-3065-4cb7-ffce-a0afece990ad"
      },
      "source": [
        "MAX_SEQUENCE_LENGTH = 250\n",
        "\n",
        "int_vectorize_layer = TextVectorization(\n",
        "    max_tokens=VOCAB_SIZE,\n",
        "    output_mode='int',\n",
        "    output_sequence_length=MAX_SEQUENCE_LENGTH)\n",
        "\n",
        "def int_vectorize_text(text, label):\n",
        "  text = tf.expand_dims(text, -1)\n",
        "  return int_vectorize_layer(text), label\n",
        "\n",
        "int_vectorize_layer.adapt(train_text)\n",
        "\n",
        "print(\"'int' vectorized question:\", int_vectorize_text(first_question, first_label)[0])\n",
        "print(\"1289 ---> \", int_vectorize_layer.get_vocabulary()[1289])\n",
        "print(\"313 ---> \", int_vectorize_layer.get_vocabulary()[313])\n",
        "print(\"Vocabulary size: {}\".format(len(int_vectorize_layer.get_vocabulary())))\n",
        "\n",
        "int_train_ds = raw_train_ds.map(int_vectorize_text)\n",
        "int_val_ds = raw_val_ds.map(int_vectorize_text)\n",
        "int_test_ds = raw_test_ds.map(int_vectorize_text)"
      ],
      "execution_count": null,
      "outputs": [
        {
          "output_type": "stream",
          "text": [
            "'int' vectorized question: tf.Tensor(\n",
            "[[   1  111    6   23  299 1787  198    2 3623  299 7826    1    1  805\n",
            "  2568   23    1 1218 3892  364 4145    1    1  661   16    5  981   45\n",
            "   121 1881   47    1  742   36 9987    8 1982  322  662   36   23 2362\n",
            "   195  543   83 2693 2609  661  144    1  411    2 1371   23  657    1\n",
            "  6520   84   66    3  166  104   26 1182    6    5    1 1639   44    3\n",
            "   189 3623  519 1135    1   44 5468  280 1272   71  156  157    5 1759\n",
            "     9  331    3  227    2 3623  299  115  810    5  547 3833    3    1\n",
            "  2371  146  202 1195  289    1    6 2179 1787  193    9  136 1195   45\n",
            "     6   67  181    4   11  198  106    1    1  299   31    1 2216 1924\n",
            "    29  299   53   28 2081   22   53   42  170  154  256    7   15  453\n",
            "    28    1  237 2698    1  134 2698  131 2698  323 2698    1    1    1\n",
            "     1    1    1   23    1 2216 1924   29  299   22   53   42  170  154\n",
            "   256 1360   15  453   28  237    1  237   68    9  196  807   28 7167\n",
            "     1  237    1 1364    1  562    1 4406  735 1820  761   12   28    3\n",
            "    19    1    3  123   12   73  196  807   28    1    1  139   94   24\n",
            "   406    1   35   33 5921    1   75  128   12    2  196  133  588   24\n",
            "   406    1  603   35 3728   21  323   59  376  562   21  445 4406  816\n",
            "    12    5 1820  761   22   53   28    1    1    3   28  323]], shape=(1, 250), dtype=int64)\n",
            "1289 --->  roman\n",
            "313 --->  source\n",
            "Vocabulary size: 10000\n"
          ],
          "name": "stdout"
        }
      ]
    },
    {
      "cell_type": "markdown",
      "metadata": {
        "id": "NHuAF8hYfP5Z"
      },
      "source": [
        "#### Configure the dataset for performance"
      ]
    },
    {
      "cell_type": "code",
      "metadata": {
        "id": "PabA9DFIfSz7"
      },
      "source": [
        "AUTOTUNE = tf.data.experimental.AUTOTUNE\n",
        "\n",
        "def configure_dataset(dataset):\n",
        "  return dataset.cache().prefetch(buffer_size=AUTOTUNE)"
      ],
      "execution_count": null,
      "outputs": []
    },
    {
      "cell_type": "markdown",
      "metadata": {
        "id": "ujeYQPqVhM2m"
      },
      "source": [
        "Binary model"
      ]
    },
    {
      "cell_type": "code",
      "metadata": {
        "id": "J8GcJLvb3JH0"
      },
      "source": [
        "binary_train_ds = configure_dataset(binary_train_ds)\n",
        "binary_val_ds = configure_dataset(binary_val_ds)\n",
        "binary_test_ds = configure_dataset(binary_test_ds)"
      ],
      "execution_count": null,
      "outputs": []
    },
    {
      "cell_type": "markdown",
      "metadata": {
        "id": "3YYOO5FZhOy7"
      },
      "source": [
        "Integer model"
      ]
    },
    {
      "cell_type": "code",
      "metadata": {
        "id": "UCMTcEQ3gC2t"
      },
      "source": [
        "int_train_ds = configure_dataset(int_train_ds)\n",
        "int_val_ds = configure_dataset(int_val_ds)\n",
        "int_test_ds = configure_dataset(int_test_ds)"
      ],
      "execution_count": null,
      "outputs": []
    },
    {
      "cell_type": "markdown",
      "metadata": {
        "id": "NYGb7z_bfpGm"
      },
      "source": [
        "### Create and compile the model"
      ]
    },
    {
      "cell_type": "markdown",
      "metadata": {
        "id": "wJbU89XxhYQY"
      },
      "source": [
        "Binary model"
      ]
    },
    {
      "cell_type": "code",
      "metadata": {
        "id": "2q8iAU-VMzaN"
      },
      "source": [
        "binary_model = tf.keras.Sequential([layers.Dense(4)])\n",
        "\n",
        "binary_model.compile(\n",
        "    loss=losses.SparseCategoricalCrossentropy(from_logits=True),\n",
        "    optimizer='adam',\n",
        "    metrics=['accuracy'])"
      ],
      "execution_count": null,
      "outputs": []
    },
    {
      "cell_type": "markdown",
      "metadata": {
        "id": "wBkJyxvHhZwV"
      },
      "source": [
        "Integer model"
      ]
    },
    {
      "cell_type": "code",
      "metadata": {
        "id": "5ztw2XH_LbVz"
      },
      "source": [
        "def create_model(vocab_size, num_labels):\n",
        "  model = tf.keras.Sequential([\n",
        "      layers.Embedding(vocab_size, 64, mask_zero=True),\n",
        "      layers.Conv1D(64, 5, padding=\"valid\", activation=\"relu\", strides=2),\n",
        "      layers.GlobalMaxPooling1D(),\n",
        "      layers.Dense(num_labels)\n",
        "  ])\n",
        "  return model\n",
        "\n",
        "# vocab_size is VOCAB_SIZE + 1 since 0 is used additionally for padding.\n",
        "int_model = create_model(vocab_size=VOCAB_SIZE + 1, num_labels=4)\n",
        "\n",
        "int_model.compile(\n",
        "    loss=losses.SparseCategoricalCrossentropy(from_logits=True),\n",
        "    optimizer='adam',\n",
        "    metrics=['accuracy'])"
      ],
      "execution_count": null,
      "outputs": []
    },
    {
      "cell_type": "markdown",
      "metadata": {
        "id": "qFbJKCt0gFNF"
      },
      "source": [
        "### Train the model"
      ]
    },
    {
      "cell_type": "markdown",
      "metadata": {
        "id": "U4womAflhh55"
      },
      "source": [
        "Binary model"
      ]
    },
    {
      "cell_type": "code",
      "metadata": {
        "colab": {
          "base_uri": "https://localhost:8080/"
        },
        "id": "ck4snxI8esMy",
        "outputId": "e290b13a-e4ea-4ad4-9ac5-f7c14fcce7b6"
      },
      "source": [
        "history = binary_model.fit(\n",
        "    binary_train_ds, validation_data=binary_val_ds, epochs=10)"
      ],
      "execution_count": null,
      "outputs": [
        {
          "output_type": "stream",
          "text": [
            "Epoch 1/10\n",
            "200/200 [==============================] - 2s 12ms/step - loss: 1.1132 - accuracy: 0.6548 - val_loss: 0.9110 - val_accuracy: 0.7681\n",
            "Epoch 2/10\n",
            "200/200 [==============================] - 0s 2ms/step - loss: 0.7752 - accuracy: 0.8186 - val_loss: 0.7484 - val_accuracy: 0.7919\n",
            "Epoch 3/10\n",
            "200/200 [==============================] - 0s 2ms/step - loss: 0.6249 - accuracy: 0.8645 - val_loss: 0.6634 - val_accuracy: 0.8131\n",
            "Epoch 4/10\n",
            "200/200 [==============================] - 0s 2ms/step - loss: 0.5320 - accuracy: 0.8864 - val_loss: 0.6103 - val_accuracy: 0.8213\n",
            "Epoch 5/10\n",
            "200/200 [==============================] - 0s 2ms/step - loss: 0.4664 - accuracy: 0.9059 - val_loss: 0.5737 - val_accuracy: 0.8300\n",
            "Epoch 6/10\n",
            "200/200 [==============================] - 0s 2ms/step - loss: 0.4163 - accuracy: 0.9194 - val_loss: 0.5472 - val_accuracy: 0.8331\n",
            "Epoch 7/10\n",
            "200/200 [==============================] - 1s 3ms/step - loss: 0.3763 - accuracy: 0.9297 - val_loss: 0.5272 - val_accuracy: 0.8363\n",
            "Epoch 8/10\n",
            "200/200 [==============================] - 0s 2ms/step - loss: 0.3432 - accuracy: 0.9367 - val_loss: 0.5117 - val_accuracy: 0.8413\n",
            "Epoch 9/10\n",
            "200/200 [==============================] - 1s 3ms/step - loss: 0.3151 - accuracy: 0.9436 - val_loss: 0.4995 - val_accuracy: 0.8425\n",
            "Epoch 10/10\n",
            "200/200 [==============================] - 0s 2ms/step - loss: 0.2908 - accuracy: 0.9497 - val_loss: 0.4897 - val_accuracy: 0.8419\n"
          ],
          "name": "stdout"
        }
      ]
    },
    {
      "cell_type": "markdown",
      "metadata": {
        "id": "HSpolX1ihkAq"
      },
      "source": [
        "Integer model"
      ]
    },
    {
      "cell_type": "code",
      "metadata": {
        "colab": {
          "base_uri": "https://localhost:8080/"
        },
        "id": "5qIL5RNxfTZ3",
        "outputId": "a72c2a19-70b9-41e8-b35e-149729bdeed5"
      },
      "source": [
        "history = int_model.fit(int_train_ds, validation_data=int_val_ds, epochs=5)"
      ],
      "execution_count": null,
      "outputs": [
        {
          "output_type": "stream",
          "text": [
            "Epoch 1/5\n",
            "200/200 [==============================] - 4s 18ms/step - loss: 1.1447 - accuracy: 0.5056 - val_loss: 0.7641 - val_accuracy: 0.6775\n",
            "Epoch 2/5\n",
            "200/200 [==============================] - 2s 9ms/step - loss: 0.6305 - accuracy: 0.7503 - val_loss: 0.5566 - val_accuracy: 0.7987\n",
            "Epoch 3/5\n",
            "200/200 [==============================] - 2s 9ms/step - loss: 0.3864 - accuracy: 0.8783 - val_loss: 0.4894 - val_accuracy: 0.8150\n",
            "Epoch 4/5\n",
            "200/200 [==============================] - 2s 9ms/step - loss: 0.2177 - accuracy: 0.9492 - val_loss: 0.4834 - val_accuracy: 0.8150\n",
            "Epoch 5/5\n",
            "200/200 [==============================] - 2s 9ms/step - loss: 0.1106 - accuracy: 0.9819 - val_loss: 0.5059 - val_accuracy: 0.8125\n"
          ],
          "name": "stdout"
        }
      ]
    },
    {
      "cell_type": "markdown",
      "metadata": {
        "id": "Gyz5GbyqZ-lZ"
      },
      "source": [
        "### Export the model"
      ]
    },
    {
      "cell_type": "markdown",
      "metadata": {
        "id": "x3J9Eeuv97zE"
      },
      "source": [
        "##### Compare the two models"
      ]
    },
    {
      "cell_type": "code",
      "metadata": {
        "id": "N8ViDXw99v_u",
        "colab": {
          "base_uri": "https://localhost:8080/"
        },
        "outputId": "07474e20-0bda-45a4-f4af-ef20b127b749"
      },
      "source": [
        "print(\"Linear model on binary vectorized data:\")\n",
        "print(binary_model.summary())\n",
        "\n",
        "print(\"ConvNet model on int vectorized data:\")\n",
        "print(int_model.summary())"
      ],
      "execution_count": null,
      "outputs": [
        {
          "output_type": "stream",
          "text": [
            "Linear model on binary vectorized data:\n",
            "Model: \"sequential\"\n",
            "_________________________________________________________________\n",
            "Layer (type)                 Output Shape              Param #   \n",
            "=================================================================\n",
            "dense (Dense)                (None, 4)                 40004     \n",
            "=================================================================\n",
            "Total params: 40,004\n",
            "Trainable params: 40,004\n",
            "Non-trainable params: 0\n",
            "_________________________________________________________________\n",
            "None\n",
            "ConvNet model on int vectorized data:\n",
            "Model: \"sequential_1\"\n",
            "_________________________________________________________________\n",
            "Layer (type)                 Output Shape              Param #   \n",
            "=================================================================\n",
            "embedding (Embedding)        (None, None, 64)          640064    \n",
            "_________________________________________________________________\n",
            "conv1d (Conv1D)              (None, None, 64)          20544     \n",
            "_________________________________________________________________\n",
            "global_max_pooling1d (Global (None, 64)                0         \n",
            "_________________________________________________________________\n",
            "dense_1 (Dense)              (None, 4)                 260       \n",
            "=================================================================\n",
            "Total params: 660,868\n",
            "Trainable params: 660,868\n",
            "Non-trainable params: 0\n",
            "_________________________________________________________________\n",
            "None\n"
          ],
          "name": "stdout"
        }
      ]
    },
    {
      "cell_type": "code",
      "metadata": {
        "colab": {
          "base_uri": "https://localhost:8080/"
        },
        "id": "EoN-Mv-jfJEM",
        "outputId": "f523d610-9b05-46e3-f465-3521003fc78c"
      },
      "source": [
        "binary_loss, binary_accuracy = binary_model.evaluate(binary_test_ds)\n",
        "print(\"Binary model accuracy: {:2.2%}\".format(binary_accuracy))\n",
        "\n",
        "int_loss, int_accuracy = int_model.evaluate(int_test_ds)\n",
        "print(\"Int model accuracy: {:2.2%}\".format(int_accuracy))"
      ],
      "execution_count": null,
      "outputs": [
        {
          "output_type": "stream",
          "text": [
            "250/250 [==============================] - 2s 8ms/step - loss: 0.5171 - accuracy: 0.8141\n",
            "Binary model accuracy: 81.41%\n",
            "250/250 [==============================] - 2s 9ms/step - loss: 0.5254 - accuracy: 0.8048\n",
            "Int model accuracy: 80.48%\n"
          ],
          "name": "stdout"
        }
      ]
    },
    {
      "cell_type": "markdown",
      "metadata": {
        "id": "_vvILfWXh0Qe"
      },
      "source": [
        "##### Export the best model"
      ]
    },
    {
      "cell_type": "code",
      "metadata": {
        "id": "_bRe3KX8gRCX",
        "colab": {
          "base_uri": "https://localhost:8080/"
        },
        "outputId": "9a48870e-c5ab-4416-da7d-e84a3b1ba608"
      },
      "source": [
        "export_model = tf.keras.Sequential(\n",
        "    [binary_vectorize_layer, binary_model,\n",
        "     layers.Activation('sigmoid')])\n",
        "\n",
        "export_model.compile(\n",
        "    loss=losses.SparseCategoricalCrossentropy(from_logits=False),\n",
        "    optimizer='adam',\n",
        "    metrics=['accuracy'])\n",
        "\n",
        "# Test it with `raw_test_ds`, which yields raw strings\n",
        "loss, accuracy = export_model.evaluate(raw_test_ds)\n",
        "print(\"Accuracy: {:2.2%}\".format(binary_accuracy))"
      ],
      "execution_count": null,
      "outputs": [
        {
          "output_type": "stream",
          "text": [
            "250/250 [==============================] - 2s 9ms/step - loss: 0.6959 - accuracy: 0.8141\n",
            "Accuracy: 81.41%\n"
          ],
          "name": "stdout"
        }
      ]
    },
    {
      "cell_type": "markdown",
      "metadata": {
        "id": "fU0iEqDbiDyi"
      },
      "source": [
        "### Test model with new data"
      ]
    },
    {
      "cell_type": "code",
      "metadata": {
        "id": "BOR2MupW1_zS",
        "colab": {
          "base_uri": "https://localhost:8080/"
        },
        "outputId": "bc9af15a-c13a-4716-f66e-0a27ae161ca3"
      },
      "source": [
        "def get_string_labels(predicted_scores_batch):\n",
        "  predicted_int_labels = tf.argmax(predicted_scores_batch, axis=1)\n",
        "  predicted_labels = tf.gather(raw_train_ds.class_names, predicted_int_labels)\n",
        "  return predicted_labels\n",
        "\n",
        "inputs = [\n",
        "   # python\n",
        "  \"how do I extract keys from a dict into a list?\",\n",
        "  # java\n",
        "  \"debug public static void main(string[] args) {...}\",\n",
        "  # Python\n",
        "  \"how to call various strings without using %s? text1=\"\"blank\"\".text2=\"\"with me\"\".print(\"\"study %(language)s\"\" %{'language':text1})....this works. but i am wondering whether it is using dictionary to call string? ...print(\"\"study %(language)s %(with whom)\"\" %({'language':text1},{'with whom':text2}))...but it doesn't work. how can i fix it?...the error says 'format requires a mapping'\",\n",
        "  # Javascript\n",
        "  \"what's the point in blank window.onload? i never quite understood this what's the point in using window.onload like this if the blank load's anything not in a function as soon as the webpage loads?....window.onload = function() {.  alert(\"\"hello\"\");.};\",\n",
        "  # Java\n",
        "  \"3 decimal precision in blank     float x = 4;.    float answer = 4/16;...the answer for this is 0.25, but i want to display the answer upto 3 decimal places, like 0.250...how to achieve that? please help?\",\n",
        "  # Csharp\n",
        "  \"the type or namespace name 'name' could not be found the type or namespace name 'question'could not be found (are you missing a using directive or an assembly reference?)..i've spent the morning reading threads with the same error, but haven't found anything that seems to apply. the references seem to be set up correctly. i tried adding \"\"using testproject.trivia.web\"\", but then i just get \"\"the type or namespace name 'web' does not exist in the namespace 'testproject.trivia' (are youmissing an assembly reference?)...in one project, i have this cs file:..using system.runtime.serialization;.using system.xml.serialization;..namespace testproject.trivia.{.[datacontract].public class course.{.    [xmlattribute, datamember].    public string name { get; set; }..    [xmlattribute, datamember].    public int id { get; set; }..    [xmlelement, datamember].    public question [] questions { get; set; }.}...}..it has a reference to class testproject.trivia.web, which has a javascript file with the definition of a question (which i'm referencing in the rest of the solution with no trouble)...any ideas will be appreciated...\"\n",
        "]\n",
        "\n",
        "predicted_scores = export_model.predict(inputs)\n",
        "predicted_labels = get_string_labels(predicted_scores)\n",
        "\n",
        "for input, label in zip(inputs, predicted_labels):\n",
        "  print(\"Question: \", input)\n",
        "  print(\"Predicted label: \", label.numpy(), '\\n')"
      ],
      "execution_count": null,
      "outputs": [
        {
          "output_type": "stream",
          "text": [
            "Question:  how do I extract keys from a dict into a list?\n",
            "Predicted label:  b'python' \n",
            "\n",
            "Question:  debug public static void main(string[] args) {...}\n",
            "Predicted label:  b'java' \n",
            "\n",
            "Question:  how to call various strings without using %s? text1=blank.text2=with me.print(study %(language)s %{'language':text1})....this works. but i am wondering whether it is using dictionary to call string? ...print(study %(language)s %(with whom) %({'language':text1},{'with whom':text2}))...but it doesn't work. how can i fix it?...the error says 'format requires a mapping'\n",
            "Predicted label:  b'python' \n",
            "\n",
            "Question:  what's the point in blank window.onload? i never quite understood this what's the point in using window.onload like this if the blank load's anything not in a function as soon as the webpage loads?....window.onload = function() {.  alert(hello);.};\n",
            "Predicted label:  b'javascript' \n",
            "\n",
            "Question:  3 decimal precision in blank     float x = 4;.    float answer = 4/16;...the answer for this is 0.25, but i want to display the answer upto 3 decimal places, like 0.250...how to achieve that? please help?\n",
            "Predicted label:  b'python' \n",
            "\n",
            "Question:  the type or namespace name 'name' could not be found the type or namespace name 'question'could not be found (are you missing a using directive or an assembly reference?)..i've spent the morning reading threads with the same error, but haven't found anything that seems to apply. the references seem to be set up correctly. i tried adding using testproject.trivia.web, but then i just get the type or namespace name 'web' does not exist in the namespace 'testproject.trivia' (are youmissing an assembly reference?)...in one project, i have this cs file:..using system.runtime.serialization;.using system.xml.serialization;..namespace testproject.trivia.{.[datacontract].public class course.{.    [xmlattribute, datamember].    public string name { get; set; }..    [xmlattribute, datamember].    public int id { get; set; }..    [xmlelement, datamember].    public question [] questions { get; set; }.}...}..it has a reference to class testproject.trivia.web, which has a javascript file with the definition of a question (which i'm referencing in the rest of the solution with no trouble)...any ideas will be appreciated...\n",
            "Predicted label:  b'csharp' \n",
            "\n"
          ],
          "name": "stdout"
        }
      ]
    },
    {
      "cell_type": "markdown",
      "metadata": {
        "id": "EypWasxggtxg"
      },
      "source": [
        "# Evaluate PDFs with exported model"
      ]
    },
    {
      "cell_type": "code",
      "metadata": {
        "id": "o7VAdPC5mUb3"
      },
      "source": [
        "import fitz  # this is pymupdf\n",
        "\n",
        "def get_paragraphs(text):\n",
        "  lines = text.split('\\n')\n",
        "  paraphs = []\n",
        "  p = \"\"\n",
        "  for line in lines:\n",
        "    if line == ' ':\n",
        "      paraphs.append(p)\n",
        "      p = \"\"\n",
        "    else:\n",
        "      p += line\n",
        "  return paraphs"
      ],
      "execution_count": null,
      "outputs": []
    },
    {
      "cell_type": "code",
      "metadata": {
        "id": "Z19GKd0DmVHQ"
      },
      "source": [
        "pdf = \"/content/drive/MyDrive/Sem VII/PIT Procesamiento inteligente de texto/Examen final/Programming languages.pdf\"\n",
        "\n",
        "with fitz.open(pdf) as doc:\n",
        "  text = \"\"\n",
        "  for page in doc:\n",
        "      text += page.getText()"
      ],
      "execution_count": null,
      "outputs": []
    },
    {
      "cell_type": "code",
      "metadata": {
        "id": "iPl6GyOSmXVm"
      },
      "source": [
        "questions = get_paragraphs(text)"
      ],
      "execution_count": null,
      "outputs": []
    },
    {
      "cell_type": "code",
      "metadata": {
        "colab": {
          "base_uri": "https://localhost:8080/"
        },
        "id": "loIM_u-imeFf",
        "outputId": "84782b59-4d66-43c2-8bd8-2b15c7b0ffaf"
      },
      "source": [
        "predicted_scores = export_model.predict(questions)\n",
        "predicted_labels = get_string_labels(predicted_scores)\n",
        "\n",
        "for input, label in zip(questions[:-1], predicted_labels[:-1]):\n",
        "  print(\"Question: \", input)\n",
        "  print(\"Predicted label: \", label.numpy(), '\\n')"
      ],
      "execution_count": null,
      "outputs": [
        {
          "output_type": "stream",
          "text": [
            "Question:  \"null value appear in datagridview in after new column added my datagridview have one name column. i am trying to add one image column with that datagridview. once i add the image column it made that name column as null. please refer the below code:..public void call(string usr).{.    user = usr;.    querystring = \"\"select name 'name' from adk_my_prodsyssecgroup\"\";. try.    {.        specdataadapter = new sqldataadapter(querystring, con);.        specds = new dataset();.        con.open();.        specdataadapter.fill(specds, \"\"report_table\"\");. dgvdisp.datasource = specds;.        dgvdisp.datamember = \"\"report_table\"\";. dgvdisp.columns[dgvdisp.columncount - 1].autosizemode = datagridviewautosizecolumnmode.fill;.        con.close();..        if (user == \"\"secgrp\"\").        {. datagridviewimagecolumn set = new datagridviewimagecolumn();.            set.name = \"\"set\"\";. set.headertext = \"\"settings\"\";.            dgvdisp.columns.insert(1, set);.            for (int rows = 0; rows &lt; dgvdisp.rows.count; rows++).            {. messagebox.show(dgvdisp.rows[rows].cells[0].value.tostring());.            }.        }.    }.    catch (exception ex).    {.        dispmessagebox disp = new dispmessagebox(\"\"fail to retrieve data. please try again\"\");.        disp.showdialog();.    }.}..public void calling().{.    sqlconnection con = new sqlconnection(connetionstring);..    for (int rows = 0; rows &lt; dgvdisp.rows.count; rows++). {.        sqlcommand command = new sqlcommand(\"\"select settings from adk_my_prodsyssecgroup where name='\"\" + convert.tostring(dgvdisp.rows[rows].cells[0].value) + \"\"'\"\", con);.        con.open();.        sqldatareader reader = command.executereader();.        if (reader.hasrows).        {.            while (reader.read()).            {.                if (reader.getint32(0) == 1).                {.                    image image = properties.resources.start;.                    //set.image = image;.                    dgvdisp.rows[rows].cells[\"\"set\"\"].value = image;.                }.                if (reader.getint32(0) == 0).                {.                    image image = properties.resources.finish;. //set.image = image;    .                    dgvdisp.rows[rows].cells[\"\"set\"\"].value = image;.                }. }.        }.        reader.close();.        con.close();.    }.}...here in the call method, dgvdisp datagridview shows the value, but when i tried to get the value from calling method, the datagridview shows null value when i retrieve name field...please suggest...\" \n",
            "Predicted label:  b'csharp' \n",
            "\n",
            "Question:  \"how to sum all the fractions in a loop? i'd like to calculate the sum of the following numbers using a loop..1/3 + 3/5 + 5/7 + . . . + 95/97 + 97/99...print the sum..so far this is what i wrote but i could only get it to print the fractions..s = ''.for j in range(30, 0, -1):.    s += \"\"{}/{} + \"\".format(31-j, j).    sum = +=j.print sum\" \n",
            "Predicted label:  b'python' \n",
            "\n",
            "Question:  \"Python: rearrange an interger number to a largest palindrome number i have written the following code to solve the topic \"\"rearrange an interger number to a largest palindrome number\"\"..example:..input data is 485, the output should be 'not palindrome number'..input data is 445, the output should be 454..input data is 24266, the output should be 62426 (largest palindrome, not 26462)..please take a look and help me correct this..the problem i met:.input 112 -> it just returns 2..thank you!..def largest_palindrome(self, number):.        a = list(str(number)).        duplicate = [item for item, count in collections.counter(a).items() if count &gt; 1].        if (round(len(a)/2,0) != len(duplicate)):.            print 'not palindrome number'. else:.            uniq = [].            max_item = a[0].            for i in range (1, len (a)):.                if a[i] &gt; max_item:.                    max_item = a[i].                    uniq=uniq.append(max_item). return uniq\" \n",
            "Predicted label:  b'python' \n",
            "\n",
            "Question:  \"why is sorted documented as taking an iterable instead of a collection? is there some deeper meaning why python's sorted is documented as taking an iterable (which may be infinite) instead of a collection (which is sized)?..for example, this will run forever:..# do not run.import itertools..for item in sorted(itertools.count()):.    print(item)...i get that they'd want to allow sorted to work on a collection's iterable object instead of the collection itself, but isn't there a fundamental difference (perhaps to be reflected in collections.abc) between iterables that are guaranteed to raise a stopiteration and iterables that may be infinite?\" \n",
            "Predicted label:  b'python' \n",
            "\n",
            "Question:  \"how to update config file from code behind page in c# i am working on a web application which extracts data from databases. databases are residing on server. i want the user to provide server name, username and password from the web application, which will help me to modify my connection string in web.config file from the code behind page. so, how can i update the config file from the code behind page in c#?..guide me on what do i need to do here.\" \n",
            "Predicted label:  b'csharp' \n",
            "\n",
            "Question:  \"is there a way for me to get detailed formatted information on a python class? so, i know i can use dir() to get information about class members etc. what i'm looking for is a way to get a nicely formatted report on everything related to a class (the members, docstrings, inheritance hierarchy, etc.)...i want to be able to run this on the command-line so i can explore code and debug better.\" \n",
            "Predicted label:  b'csharp' \n",
            "\n",
            "Question:  \"implementing exception handling in javascript i would like to know the best and easiest way to implement exception handling in javascript. i'm looking for a \"\"one point\"\" solution. i've got lot of functions and wouldn't want to go around and implement try-catch. ..i feel window.onerror would be a better approach, since i just have to implement this in one place and any exceptions that occurs in any of the functions, i would be able to handle it using window.onerror. however, this seems to be supported only in ie. is there any similar way that i can use so that it supports all major standard browsers...thanks in advance.\" \n",
            "Predicted label:  b'csharp' \n",
            "\n",
            "Question:  \"how to pass variable to anonymous function i want to pass variable settimeoutfunction and do something with that. when i alert value of i it shows me numbers that i did not expected. what i m doing wrong? i want log values from 1 till 8...var end=8;.for (var i = 1; i &lt; end; i ++) {. settimeout(function (i) {.           console.log(i);   ..       }, 800);.   }\" \n",
            "Predicted label:  b'javascript' \n",
            "\n",
            "Question:  \"Javascript - sum/total is reading nan i am making a pricing sheet that allows you to input the quantity of an item and will automatically calculate the cost. i have created the equations and now just need to add the results to give a total, which isn't working and displays a nan error. is it because the data is not formatted as numbers? or is it something to do with the order that my functions are loading? i am new to javascript, any help would be great,.cheers!..&lt;!doctype html&gt;..&lt;html&gt;.    &lt;body&gt;.        &lt;p&gt;item 1&lt;/p&gt;.        &lt;input type=\"\"number\"\" onkeyup=\"\"equation1() sum()\"\" onkeydown=\"\"equation1(); sum()\"\" value=\"\"3\"\" id=\"\"box1\"\"&gt;.        &lt;p id=\"\"result1\"\"&gt;&lt;/p&gt;.        &lt;div class=\"\"clear\"\"&gt;&lt;/div&gt;.. &lt;p&gt;item 2&lt;/p&gt;.        &lt;input type=\"\"number\"\" onkeyup=\"\"equation2() sum()\"\" onkeydown=\"\"equation2(); sum()\"\" value=\"\"1\"\" id=\"\"box2\"\"&gt;.        &lt;p id=\"\"result2\"\"&gt;&lt;/p&gt;.        &lt;div class=\"\"clear\"\"&gt;&lt;/div&gt;.. &lt;p&gt;total&lt;/p&gt;.        &lt;p id=\"\"total\"\"&gt;&lt;/p&gt;.        &lt;div class=\"\"clear\"\"&gt;&lt;/div&gt;..        &lt;script&gt;.            var x = document.getelementbyid(\"\"box1\"\").value;.            var y = x * 6.23;.            var z = \"\"$\"\" + y.tofixed(2);.            document.getelementbyid(\"\"result1\"\").innerhtml = z;..            function equation1() {.                var x = document.getelementbyid(\"\"box1\"\").value;.                var y = x * 6.23;.                var z = \"\"$\"\" + y.tofixed(2);. document.getelementbyid(\"\"result1\"\").innerhtml = z;.            }..            var x = document.getelementbyid(\"\"box2\"\").value;.            var y = x * 8.15;.            var z = \"\"$\"\" + y.tofixed(2);.            document.getelementbyid(\"\"result2\"\").innerhtml = z;..            function equation2() {.                var x = document.getelementbyid(\"\"box2\"\").value;.                var y = x * 8.15;.                var z = \"\"$\"\" + y.tofixed(2);. document.getelementbyid(\"\"result2\"\").innerhtml = z;.            }..            var price1 = document.getelementbyid(\"\"result1\"\");.            var price2 = document.getelementbyid(\"\"result1\"\");.            var x = +price1 + +price2;.            var z = \"\"$\"\" + x.tofixed(2);.            document.getelementbyid(\"\"total\"\").innerhtml = z;..            function sum() {. var price1 = document.getelementbyid(\"\"result1\"\");.                var price2 = document.getelementbyid(\"\"result1\"\");.                var x = +price1 + +price2;.                var z = \"\"$\"\" + x.tofixed(2);.                document.getelementbyid(\"\"total\"\").innerhtml = z;.            }. &lt;/script&gt;.    &lt;/body&gt;.&lt;/html&gt;\" \n",
            "Predicted label:  b'javascript' \n",
            "\n",
            "Question:  \"significance of javascript:void(0) returning \"\"undefined\"\" i have more than a few doubts regarding javascript:void(0)..the following are my doubts....i know it returns \"\"undefined\"\" but what is the significance of it. or in other words, at what sitiation or circumstance do we use javascript:void(0); what exactly does the programmer want when he uses javascript:void(0).i'm asking this question because i dont have a clear understanding of javascript:void(0) and it might be stupid. but what would happen if i use javascript:myfunction(\"\"some argument\"\") instead..like for example &lt;a href=\"\"javascript:myfunction(\"\"args\"\")\"\"&gt;&lt;/a&gt;...please focus more on the second part.\" \n",
            "Predicted label:  b'javascript' \n",
            "\n",
            "Question:  \"classes inside interface i was trying to develop an interface and that interface will contain static class..class c1 {..    static interface i // a static interface or class can contain static members.static members can be.    //accessed without instantiating the particular class.    {.. static class c2 {.        }.    }..    public static void main(string a[]) {.        c1.i.c2 ob1 = new c1.i.c2();.        system.out.println(\"\"object created\"\");.    }.}...but my query is that can interface contain classes which are not static and if yes , then how their object would be created , please advise. thanks\" \n",
            "Predicted label:  b'csharp' \n",
            "\n",
            "Question:  \"Java how to count the sum of all digits in double variable i've this code and i managed to count 77! number. however i'm a bit confused how to count the sum of all digits in double variable ?..77!= 1.4518309202828584e113. and i can't use integer data types here. what should i do?..package org.kodejava.example.io;..import java.io.fileoutputstream;.import java.io.ioexception;.import java.io.outputstream;.import java.util.arrays;..public class many {. public static void main(string[] args) {.        system.out.println(factorial(77)).    }..    public static double factorial(double n) {.        if (n == 0) return 1;.        return n * factorial(n-1);.    }.}\" \n",
            "Predicted label:  b'java' \n",
            "\n",
            "Question:  \"why doesn't the menu bar appear i'm trying to lear java swing and started looking at this example: https://docs.oracle.com/javase/tutorial/uiswing/examples/components/topleveldemoproject/src/components/topleveldemo.java..i put the code into intellij but the menu bar isn't appearing, i don't know why..the code is here: package components;..import java.awt.*;.import java.awt.event.*;.import javax.swing.*;../* topleveldemo.java requires no other files. */.public class topleveldemo {.    /**.     * create the gui and show it.  for thread safety,.     * this method should be invoked from the.     * event-dispatching thread..     */.    private static void createandshowgui() {.        //create and set up the window..        jframe frame = new jframe(\"\"topleveldemo\"\");.        frame.setdefaultcloseoperation(jframe.exit_on_close);.. //create the menu bar.  make it have a green background..        jmenubar greenmenubar = new jmenubar();.        greenmenubar.setopaque(true);.        greenmenubar.setbackground(new color(154, 165, 127));.        greenmenubar.setpreferredsize(new dimension(200, 20));.. //create a yellow label to put in the content pane..        jlabel yellowlabel = new jlabel();. yellowlabel.setopaque(true);.        yellowlabel.setbackground(new color(248, 213, 131));. yellowlabel.setpreferredsize(new dimension(200, 180));..        //set the menu bar and add the label to the content pane..        frame.setjmenubar(greenmenubar);. frame.getcontentpane().add(yellowlabel, borderlayout.center);..        //display the window.. frame.pack();.        frame.setvisible(true);.    }..    public static void main(string[] args) {. //schedule a job for the event-dispatching thread:.        //creating and showing this application's gui..        javax.swing.swingutilities.invokelater(new runnable() {.            public void run() {. createandshowgui();.            }.        });.    }.}\" \n",
            "Predicted label:  b'java' \n",
            "\n",
            "Question:  \"watch setting value of properties is there a possibility to watch value changes of properties without calling propertychanged (system.componentmodel) for every property in setter?..i tried watching my properties with timer, but this has an unnecessary negative effect on performance and is too slow (15ms for every run).\" \n",
            "Predicted label:  b'csharp' \n",
            "\n",
            "Question:  \"how do we access static properties in a class since the latter is not an object? i am new to c# and i came across the following query. since a class is not an object but just a blueprint(template), how is it possible to define static members on the class and access them by using the class name? this does not make sense to me. my understanding is class does not exist as an entity, so where static properties live? where am i wrong?\" \n",
            "Predicted label:  b'csharp' \n",
            "\n",
            "Question:  \"target variable based on string in java i need to allow the user to target a variable using a string name. example,..int number = 5;..string variabletarget = \"\"number\"\";...i need to target the int, number, and then change its value in later code. any way?..i cannot think of any way to do it. there seems to be alot of class targeting, but i already have that.\" \n",
            "Predicted label:  b'csharp' \n",
            "\n"
          ],
          "name": "stdout"
        }
      ]
    }
  ]
}